{
  "nbformat": 4,
  "nbformat_minor": 0,
  "metadata": {
    "colab": {
      "provenance": []
    },
    "kernelspec": {
      "name": "python3",
      "display_name": "Python 3"
    },
    "language_info": {
      "name": "python"
    },
    "accelerator": "GPU",
    "gpuClass": "standard"
  },
  "cells": [
    {
      "cell_type": "markdown",
      "metadata": {
        "id": "AIGuIpRFAo18"
      },
      "source": [
        "# Setup\n",
        "\n",
        "Clone repo, install dependencies and check PyTorch and GPU."
      ]
    },
    {
      "cell_type": "code",
      "metadata": {
        "colab": {
          "base_uri": "https://localhost:8080/"
        },
        "id": "taGCP-gCgqX8",
        "outputId": "584fe210-729b-41f7-bcba-2d2e3f7b0081"
      },
      "source": [
        "!git clone --recurse-submodules https://github.com/mikel-brostrom/yolov8_tracking.git  # clone repo\n",
        "%cd yolov8_tracking\n",
        "%pip install -qr requirements.txt  # install dependencies\n",
        "%pip install thop                  # install dependencies\n",
        "\n",
        "import torch\n",
        "from IPython.display import Image, clear_output  # to display images\n",
        "\n",
        "clear_output()\n",
        "print(f\"Setup complete. Using torch {torch.__version__} ({torch.cuda.get_device_properties(0).name if torch.cuda.is_available() else 'CPU'})\")"
      ],
      "execution_count": 1,
      "outputs": [
        {
          "output_type": "stream",
          "name": "stdout",
          "text": [
            "Setup complete. Using torch 1.13.1+cu116 (Tesla T4)\n"
          ]
        }
      ]
    },
    {
      "cell_type": "code",
      "metadata": {
        "id": "4Acf_nRZ7yS6"
      },
      "source": [
        "%cd /content/yolov8_tracking\n",
        "#%pip install gdown\n",
        "!wget https://drive.google.com/u/0/uc?id=1E_okMwdUzdTIa2EoWji2ntqP52ZBAmfR&amp -O resnet.pt  # resnet50\n",
        "#!wget https://drive.google.com/file/d/131Gt7Cgh0afVPZzAzSegnWtgcTLTYI-p/view?usp=share_link  -O best_drone   #yolov8s\n",
        "#!wget https://drive.google.com/file/d/110B0i4bwoF2Jm11tJ46geyfDI9aZ2Vdd/view?usp=share_link  -O drone.mp4  #video\n"
      ],
      "execution_count": null,
      "outputs": []
    },
    {
      "cell_type": "code",
      "source": [
        " https://drive.google.com/drive/folders/1nKt-pzC2Oa1ImE_LKoxA79ttemNOPOYL?usp=share_link "
      ],
      "metadata": {
        "id": "zt7LnbjHWBRz"
      },
      "execution_count": null,
      "outputs": []
    },
    {
      "cell_type": "code",
      "metadata": {
        "id": "4yEraJfKhBku"
      },
      "source": [
        "!python track.py --yolo-weights /content/drive/MyDrive/best_drone.pt --reid-weights /content/drive/MyDrive/resnet50.pt --source /content/drive/MyDrive/drone.mp4 --save-vid"
      ],
      "execution_count": null,
      "outputs": []
    }
  ]
}