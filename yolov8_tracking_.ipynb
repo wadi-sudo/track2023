{
  "nbformat": 4,
  "nbformat_minor": 0,
  "metadata": {
    "colab": {
      "provenance": []
    },
    "kernelspec": {
      "name": "python3",
      "display_name": "Python 3"
    },
    "language_info": {
      "name": "python"
    },
    "accelerator": "GPU",
    "gpuClass": "standard"
  },
  "cells": [
    {
      "cell_type": "markdown",
      "metadata": {
        "id": "AIGuIpRFAo18"
      },
      "source": [
        "# Setup\n",
        "\n",
        "Clone repo, install dependencies and check PyTorch and GPU."
      ]
    },
    {
      "cell_type": "code",
      "metadata": {
        "colab": {
          "base_uri": "https://localhost:8080/"
        },
        "id": "taGCP-gCgqX8",
        "outputId": "cb2a7ea7-52c1-4514-8249-85a61c4d4cac"
      },
      "source": [
        "!git clone --recurse-submodules https://github.com/wadi-sudo/tracking3.git  # clone repo\n",
        "%cd tracking3\n",
        "%pip install -qr requirements.txt  # install dependencies\n",
        "%pip install thop                  # install dependencies\n",
        "\n",
        "import torch\n",
        "from IPython.display import Image, clear_output  # to display images\n",
        "\n",
        "clear_output()\n",
        "print(f\"Setup complete. Using torch {torch.__version__} ({torch.cuda.get_device_properties(0).name if torch.cuda.is_available() else 'CPU'})\")"
      ],
      "execution_count": 1,
      "outputs": [
        {
          "output_type": "stream",
          "name": "stdout",
          "text": [
            "Setup complete. Using torch 1.13.1+cu116 (Tesla T4)\n"
          ]
        }
      ]
    },
    {
      "cell_type": "code",
      "source": [
        "from google.colab import drive\n",
        "drive.mount('/content/drive')"
      ],
      "metadata": {
        "id": "fGFS8NQm0mtF",
        "outputId": "0d03d117-5dec-4fb9-f536-ca687d1ed63a",
        "colab": {
          "base_uri": "https://localhost:8080/"
        }
      },
      "execution_count": 2,
      "outputs": [
        {
          "output_type": "stream",
          "name": "stdout",
          "text": [
            "Mounted at /content/drive\n"
          ]
        }
      ]
    },
    {
      "cell_type": "code",
      "source": [
        " https://drive.google.com/drive/folders/1nKt-pzC2Oa1ImE_LKoxA79ttemNOPOYL?usp=share_link "
      ],
      "metadata": {
        "id": "zt7LnbjHWBRz"
      },
      "execution_count": null,
      "outputs": []
    },
    {
      "cell_type": "code",
      "metadata": {
        "id": "4yEraJfKhBku"
      },
      "source": [
        "!python track.py --yolo-weights /content/drive/MyDrive/shared/best_drone.pt --reid-weights /content/drive/MyDrive/shared/resnet50.pt --source /content/drive/MyDrive/shared/drone.mp4 --save-vid"
      ],
      "execution_count": null,
      "outputs": []
    }
  ]
}